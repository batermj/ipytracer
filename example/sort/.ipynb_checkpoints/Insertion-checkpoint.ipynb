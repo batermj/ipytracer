{
 "cells": [
  {
   "cell_type": "code",
   "execution_count": 1,
   "metadata": {
    "collapsed": true
   },
   "outputs": [],
   "source": [
    "import ipytracer\n",
    "from IPython.display import display"
   ]
  },
  {
   "cell_type": "markdown",
   "metadata": {},
   "source": [
    "# Insertion Sort (Insert Sort)\n",
    "Insertion sort is a simple sorting algorithm that builds the final sorted array (or list) one item at a time. It is much less efficient on large lists than more advanced algorithms such as quicksort, heapsort, or merge sort.\n",
    "\n",
    "## Complexity\n",
    "### Time\n",
    "* Worst-case: $O(n^2)$\n",
    "* Bast-case: $O(n)$\n",
    "* Average: $O(n^2)$\n",
    "\n",
    "## Reference\n",
    "* [Wikipedea](https://en.wikipedia.org/wiki/Insertion_sort)"
   ]
  },
  {
   "cell_type": "markdown",
   "metadata": {},
   "source": [
    "### Code1 - List1DTracer"
   ]
  },
  {
   "cell_type": "code",
   "execution_count": 6,
   "metadata": {
    "collapsed": true
   },
   "outputs": [],
   "source": [
    "def insertion_sort(unsorted_list):\n",
    "    x = ipytracer.List1DTracer(unsorted_list)\n",
    "    display(x)\n",
    "    for i in range(1, len(x)):\n",
    "        j = i - 1\n",
    "        key = x[i]\n",
    "        while x[j] > key and j >= 0:\n",
    "            x[j+1]  = x[j]\n",
    "            j = j - 1\n",
    "        x[j+1] = key\n",
    "    return x.data"
   ]
  },
  {
   "cell_type": "markdown",
   "metadata": {},
   "source": [
    "### work"
   ]
  },
  {
   "cell_type": "code",
   "execution_count": 7,
   "metadata": {
    "collapsed": false
   },
   "outputs": [
    {
     "data": {
      "text/plain": [
       "[1, 2, 3, 4, 5, 6, 7, 8, 9]"
      ]
     },
     "execution_count": 7,
     "metadata": {},
     "output_type": "execute_result"
    }
   ],
   "source": [
    "insertion_sort([6,4,7,9,3,5,1,8,2])"
   ]
  },
  {
   "cell_type": "markdown",
   "metadata": {},
   "source": [
    "### Code2 - ChartTracer"
   ]
  },
  {
   "cell_type": "code",
   "execution_count": 8,
   "metadata": {
    "collapsed": true
   },
   "outputs": [],
   "source": [
    "def insertion_sort(unsorted_list):\n",
    "    x = ipytracer.ChartTracer(unsorted_list)\n",
    "    display(x)\n",
    "    for i in range(1, len(x)):\n",
    "        j = i - 1\n",
    "        key = x[i]\n",
    "        while x[j] > key and j >= 0:\n",
    "            x[j+1]  = x[j]\n",
    "            j = j - 1\n",
    "        x[j+1] = key\n",
    "    return x.data"
   ]
  },
  {
   "cell_type": "markdown",
   "metadata": {},
   "source": [
    "### work"
   ]
  },
  {
   "cell_type": "code",
   "execution_count": 9,
   "metadata": {
    "collapsed": false
   },
   "outputs": [
    {
     "data": {
      "text/plain": [
       "[1, 2, 3, 4, 5, 6, 7, 8, 9]"
      ]
     },
     "execution_count": 9,
     "metadata": {},
     "output_type": "execute_result"
    }
   ],
   "source": [
    "insertion_sort([6,4,7,9,3,5,1,8,2])"
   ]
  }
 ],
 "metadata": {
  "anaconda-cloud": {},
  "kernelspec": {
   "display_name": "Python 3",
   "language": "python",
   "name": "python3"
  },
  "language_info": {
   "codemirror_mode": {
    "name": "ipython",
    "version": 3
   },
   "file_extension": ".py",
   "mimetype": "text/x-python",
   "name": "python",
   "nbconvert_exporter": "python",
   "pygments_lexer": "ipython3",
   "version": "3.6.0"
  }
 },
 "nbformat": 4,
 "nbformat_minor": 1
}

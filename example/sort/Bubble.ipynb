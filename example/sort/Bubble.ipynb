{
 "cells": [
  {
   "cell_type": "code",
   "execution_count": 1,
   "metadata": {
    "collapsed": false
   },
   "outputs": [],
   "source": [
    "import ipytracer\n",
    "from IPython.display import display"
   ]
  },
  {
   "cell_type": "markdown",
   "metadata": {
    "collapsed": true
   },
   "source": [
    "# Bubble Sort\n",
    "Bubble sort, sometimes referred to as sinking sort, is a simple sorting algorithm that repeatedly steps through the list to be sorted, compares each pair of adjacent items and swaps them if they are in the wrong order. The pass through the list is repeated until no swaps are needed, which indicates that the list is sorted. \n",
    "\n",
    "## Complexity\n",
    "### Time\n",
    "* Worst-case: $O(n^2)$\n",
    "* Bast-case: $O(n)$\n",
    "* Average: $O(n^2)$\n",
    "\n",
    "## Reference\n",
    "* [Wikipedea](https://en.wikipedia.org/wiki/Bubble_sort)"
   ]
  },
  {
   "cell_type": "markdown",
   "metadata": {},
   "source": [
    "### Code1 - List1DTracer"
   ]
  },
  {
   "cell_type": "code",
   "execution_count": 2,
   "metadata": {
    "collapsed": false
   },
   "outputs": [],
   "source": [
    "def bubble_sort(unsorted_list):\n",
    "    x = ipytracer.List1DTracer(unsorted_list)\n",
    "    display(x)\n",
    "    length = len(x)-1\n",
    "    for i in range(length):\n",
    "        for j in range(length-i):\n",
    "            if x[j] > x[j+1]:\n",
    "                x[j], x[j+1] = x[j+1], x[j]\n",
    "    return x.data"
   ]
  },
  {
   "cell_type": "markdown",
   "metadata": {},
   "source": [
    "### work"
   ]
  },
  {
   "cell_type": "code",
   "execution_count": 3,
   "metadata": {
    "collapsed": false
   },
   "outputs": [
    {
     "data": {},
     "metadata": {},
     "output_type": "display_data"
    },
    {
     "data": {
      "text/plain": [
       "[1, 2, 3, 4, 5, 6, 7, 8, 9]"
      ]
     },
     "execution_count": 3,
     "metadata": {},
     "output_type": "execute_result"
    }
   ],
   "source": [
    "bubble_sort([6,4,7,9,3,5,1,8,2])"
   ]
  },
  {
   "cell_type": "markdown",
   "metadata": {},
   "source": [
    "### Code2 - ChartTracer"
   ]
  },
  {
   "cell_type": "code",
   "execution_count": 4,
   "metadata": {
    "collapsed": true
   },
   "outputs": [],
   "source": [
    "def bubble_sort(unsorted_list):\n",
    "    x = ipytracer.ChartTracer(unsorted_list)\n",
    "    display(x)\n",
    "    length = len(x)-1\n",
    "    for i in range(length):\n",
    "        for j in range(length-i):\n",
    "            if x[j] > x[j+1]:\n",
    "                x[j], x[j+1] = x[j+1], x[j]\n",
    "    return x.data"
   ]
  },
  {
   "cell_type": "markdown",
   "metadata": {},
   "source": [
    "### work"
   ]
  },
  {
   "cell_type": "code",
   "execution_count": 5,
   "metadata": {
    "collapsed": false
   },
   "outputs": [
    {
     "data": {},
     "metadata": {},
     "output_type": "display_data"
    },
    {
     "data": {
      "text/plain": [
       "[1, 2, 3, 4, 5, 6, 7, 8, 9]"
      ]
     },
     "execution_count": 5,
     "metadata": {},
     "output_type": "execute_result"
    }
   ],
   "source": [
    "bubble_sort([6,4,7,9,3,5,1,8,2])"
   ]
  }
 ],
 "metadata": {
  "anaconda-cloud": {},
  "kernelspec": {
   "display_name": "Python [default]",
   "language": "python",
   "name": "python3"
  },
  "language_info": {
   "codemirror_mode": {
    "name": "ipython",
    "version": 3.0
   },
   "file_extension": ".py",
   "mimetype": "text/x-python",
   "name": "python",
   "nbconvert_exporter": "python",
   "pygments_lexer": "ipython3",
   "version": "3.5.2"
  },
  "widgets": {
   "state": {
    "29fed4ef5e9a41f0804c4b7171c8a9e0": {
     "model_module": "jupyter-js-widgets",
     "model_module_version": "*",
     "model_name": "LayoutModel",
     "state": {
      "_dom_classes": [],
      "_model_module": "jupyter-js-widgets",
      "_model_module_version": "*",
      "_model_name": "LayoutModel",
      "_view_module": "jupyter-js-widgets",
      "_view_module_version": "*",
      "_view_name": "LayoutView",
      "align_content": null,
      "align_items": null,
      "align_self": null,
      "border": null,
      "bottom": null,
      "display": null,
      "flex": null,
      "flex_flow": null,
      "height": "300px",
      "justify_content": null,
      "left": null,
      "margin": null,
      "max_height": null,
      "max_width": null,
      "min_height": null,
      "min_width": null,
      "msg_throttle": 1.0,
      "order": null,
      "overflow": null,
      "overflow_x": null,
      "overflow_y": null,
      "padding": null,
      "right": null,
      "top": null,
      "visibility": null,
      "width": null
     }
    },
    "38f1f61bc0b6417d92f8cdbb9b0a8ef8": {
     "model_module": "tracer",
     "model_module_version": "*",
     "model_name": "List1DTracerModel",
     "state": {
      "_dom_classes": [],
      "_id": "b857ee85-8c43-4276-8bf5-baa73c8c1813",
      "_model_module": "tracer",
      "_model_module_version": "*",
      "_model_name": "List1DTracerModel",
      "_view_module": "tracer",
      "_view_module_version": "*",
      "_view_name": "List1DTracerView",
      "data": [
       1.0,
       2.0,
       3.0,
       4.0,
       5.0,
       6.0,
       7.0,
       8.0,
       9.0
      ],
      "defaultColor": "#bdbdbd",
      "layout": "IPY_MODEL_460fe9942169416a827b4cd0fc440e96",
      "msg_throttle": 1.0,
      "notified": -1.0,
      "notifiedColor": "#37D242",
      "selected": 2.0,
      "selectedColor": "#2962ff",
      "visited": 1.0,
      "visitedColor": "#f50057"
     }
    },
    "43fea604f7274c809bf568c9dbc9cef1": {
     "model_module": "tracer",
     "model_module_version": "*",
     "model_name": "ChartTracerModel",
     "state": {
      "_dom_classes": [],
      "_id": "638e532b-1ed5-4d53-83d9-234e2cf33675",
      "_model_module": "tracer",
      "_model_module_version": "*",
      "_model_name": "ChartTracerModel",
      "_view_module": "tracer",
      "_view_module_version": "*",
      "_view_name": "ChartTracerView",
      "data": [
       1.0,
       3.0,
       4.0,
       5.0,
       6.0,
       7.0,
       7.0,
       8.0,
       9.0
      ],
      "defaultColor": "#bdbdbd",
      "labels": [
       0.0,
       1.0,
       2.0,
       3.0,
       4.0,
       5.0,
       6.0,
       7.0,
       8.0
      ],
      "layout": "IPY_MODEL_a08c5c02ce334463bf943417a5ffacdc",
      "msg_throttle": 1.0,
      "notified": -1.0,
      "notifiedColor": "#37D242",
      "selected": 6.0,
      "selectedColor": "#2962ff",
      "visited": 4.0,
      "visitedColor": "#f50057"
     }
    },
    "460fe9942169416a827b4cd0fc440e96": {
     "model_module": "jupyter-js-widgets",
     "model_module_version": "*",
     "model_name": "LayoutModel",
     "state": {
      "_dom_classes": [],
      "_model_module": "jupyter-js-widgets",
      "_model_module_version": "*",
      "_model_name": "LayoutModel",
      "_view_module": "jupyter-js-widgets",
      "_view_module_version": "*",
      "_view_name": "LayoutView",
      "align_content": null,
      "align_items": null,
      "align_self": null,
      "border": null,
      "bottom": null,
      "display": null,
      "flex": null,
      "flex_flow": null,
      "height": null,
      "justify_content": null,
      "left": null,
      "margin": null,
      "max_height": null,
      "max_width": null,
      "min_height": null,
      "min_width": null,
      "msg_throttle": 1.0,
      "order": null,
      "overflow": null,
      "overflow_x": null,
      "overflow_y": null,
      "padding": null,
      "right": null,
      "top": null,
      "visibility": null,
      "width": null
     }
    },
    "65953ead703b4545aa934ce55fce13d6": {
     "model_module": "tracer",
     "model_module_version": "*",
     "model_name": "ChartTracerModel",
     "state": {
      "_dom_classes": [],
      "_id": "c7a33034-ad5b-4458-b92d-f72528ffc845",
      "_model_module": "tracer",
      "_model_module_version": "*",
      "_model_name": "ChartTracerModel",
      "_view_module": "tracer",
      "_view_module_version": "*",
      "_view_name": "ChartTracerView",
      "data": [
       1.0,
       2.0,
       3.0,
       4.0,
       5.0,
       6.0,
       7.0,
       8.0,
       9.0
      ],
      "defaultColor": "#bdbdbd",
      "labels": [
       0.0,
       1.0,
       2.0,
       3.0,
       4.0,
       5.0,
       6.0,
       7.0,
       8.0
      ],
      "layout": "IPY_MODEL_29fed4ef5e9a41f0804c4b7171c8a9e0",
      "msg_throttle": 1.0,
      "notified": -1.0,
      "notifiedColor": "#37D242",
      "selected": 2.0,
      "selectedColor": "#2962ff",
      "visited": 1.0,
      "visitedColor": "#f50057"
     }
    },
    "a08c5c02ce334463bf943417a5ffacdc": {
     "model_module": "jupyter-js-widgets",
     "model_module_version": "*",
     "model_name": "LayoutModel",
     "state": {
      "_dom_classes": [],
      "_model_module": "jupyter-js-widgets",
      "_model_module_version": "*",
      "_model_name": "LayoutModel",
      "_view_module": "jupyter-js-widgets",
      "_view_module_version": "*",
      "_view_name": "LayoutView",
      "align_content": null,
      "align_items": null,
      "align_self": null,
      "border": null,
      "bottom": null,
      "display": null,
      "flex": null,
      "flex_flow": null,
      "height": "300px",
      "justify_content": null,
      "left": null,
      "margin": null,
      "max_height": null,
      "max_width": null,
      "min_height": null,
      "min_width": null,
      "msg_throttle": 1.0,
      "order": null,
      "overflow": null,
      "overflow_x": null,
      "overflow_y": null,
      "padding": null,
      "right": null,
      "top": null,
      "visibility": null,
      "width": null
     }
    }
   },
   "version": "2.0.10"
  }
 },
 "nbformat": 4,
 "nbformat_minor": 0
}
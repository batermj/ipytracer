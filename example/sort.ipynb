{
 "cells": [
  {
   "cell_type": "code",
   "execution_count": 4,
   "metadata": {
    "collapsed": false
   },
   "outputs": [],
   "source": [
    "import tracer\n",
    "from IPython.display import display"
   ]
  },
  {
   "cell_type": "markdown",
   "metadata": {
    "collapsed": true
   },
   "source": [
    "# Bubble Sort\n",
    "Bubble sort, sometimes referred to as sinking sort, is a simple sorting algorithm that repeatedly steps through the list to be sorted, compares each pair of adjacent items and swaps them if they are in the wrong order. The pass through the list is repeated until no swaps are needed, which indicates that the list is sorted. \n",
    "\n",
    "## Complexity\n",
    "### Time\n",
    "* Worst-case: $O(n^2)$\n",
    "* Bast-case: $O(n)$\n",
    "* Average: $O(n^2)$\n",
    "\n",
    "## Reference\n",
    "* [Wikipedea](https://en.wikipedia.org/wiki/Bubble_sort)"
   ]
  },
  {
   "cell_type": "markdown",
   "metadata": {},
   "source": [
    "### Code1 - List1DTracer"
   ]
  },
  {
   "cell_type": "code",
   "execution_count": 2,
   "metadata": {
    "collapsed": false
   },
   "outputs": [],
   "source": [
    "def bubble_sort(unsorted_list):\n",
    "    x = tracer.List1DTracer(unsorted_list)\n",
    "    length = len(x)-1\n",
    "    for i in range(length):\n",
    "        for j in range(length-i):\n",
    "            if x[j] > x[j+1]:\n",
    "                x[j], x[j+1] = x[j+1], x[j]\n",
    "    return x.data"
   ]
  },
  {
   "cell_type": "markdown",
   "metadata": {},
   "source": [
    "### work"
   ]
  },
  {
   "cell_type": "code",
   "execution_count": 3,
   "metadata": {
    "collapsed": false
   },
   "outputs": [
    {
     "data": {
      "text/html": [
       "\n",
       "        <style>\n",
       "            .set-item {\n",
       "                background-color: blue;\n",
       "                color: white;\n",
       "            }\n",
       "            .get-item {\n",
       "                background-color: red;\n",
       "                color: white;\n",
       "            }\n",
       "        </style>\n",
       "        "
      ],
      "text/plain": [
       "<IPython.core.display.HTML object>"
      ]
     },
     "metadata": {},
     "output_type": "execute_result"
    },
    {
     "data": {
      "text/html": [
       "\n",
       "        <table id=\"7ed870c4-1146-4e19-a895-f4b78ce13578\">\n",
       "            <tr>\n",
       "            \n",
       "                <td id=\"7ed870c4-1146-4e19-a895-f4b78ce13578-0\">1</td>\n",
       "            \n",
       "                <td id=\"7ed870c4-1146-4e19-a895-f4b78ce13578-1\">2</td>\n",
       "            \n",
       "                <td id=\"7ed870c4-1146-4e19-a895-f4b78ce13578-2\">3</td>\n",
       "            \n",
       "                <td id=\"7ed870c4-1146-4e19-a895-f4b78ce13578-3\">4</td>\n",
       "            \n",
       "                <td id=\"7ed870c4-1146-4e19-a895-f4b78ce13578-4\">5</td>\n",
       "            \n",
       "                <td id=\"7ed870c4-1146-4e19-a895-f4b78ce13578-5\">6</td>\n",
       "            \n",
       "                <td id=\"7ed870c4-1146-4e19-a895-f4b78ce13578-6\">7</td>\n",
       "            \n",
       "                <td id=\"7ed870c4-1146-4e19-a895-f4b78ce13578-7\">8</td>\n",
       "            \n",
       "                <td id=\"7ed870c4-1146-4e19-a895-f4b78ce13578-8\">9</td>\n",
       "            \n",
       "            </tr>\n",
       "        <table>\n",
       "        "
      ],
      "text/plain": [
       "<IPython.core.display.HTML object>"
      ]
     },
     "metadata": {},
     "output_type": "execute_result"
    },
    {
     "data": {
      "text/plain": [
       "[1, 2, 3, 4, 5, 6, 7, 8, 9]"
      ]
     },
     "execution_count": 3,
     "metadata": {},
     "output_type": "execute_result"
    }
   ],
   "source": [
    "bubble_sort([6,4,7,9,3,5,1,8,2])"
   ]
  },
  {
   "cell_type": "markdown",
   "metadata": {},
   "source": [
    "### Code2 - ChartTracer"
   ]
  },
  {
   "cell_type": "code",
   "execution_count": null,
   "metadata": {
    "collapsed": true
   },
   "outputs": [],
   "source": [
    "def bubble_sort(unsorted_list):\n",
    "    x = tracer.ChartTracer(unsorted_list)\n",
    "    display(x)\n",
    "    length = len(x)-1\n",
    "    for i in range(length):\n",
    "        for j in range(length-i):\n",
    "            if x[j] > x[j+1]:\n",
    "                x[j], x[j+1] = x[j+1], x[j]\n",
    "    return x.data"
   ]
  },
  {
   "cell_type": "markdown",
   "metadata": {},
   "source": [
    "### work"
   ]
  },
  {
   "cell_type": "code",
   "execution_count": null,
   "metadata": {
    "collapsed": true
   },
   "outputs": [],
   "source": [
    "bubble_sort([6,4,7,9,3,5,1,8,2])"
   ]
  }
 ],
 "metadata": {
  "anaconda-cloud": {},
  "kernelspec": {
   "display_name": "Python [default]",
   "language": "python",
   "name": "python3"
  },
  "language_info": {
   "codemirror_mode": {
    "name": "ipython",
    "version": 3.0
   },
   "file_extension": ".py",
   "mimetype": "text/x-python",
   "name": "python",
   "nbconvert_exporter": "python",
   "pygments_lexer": "ipython3",
   "version": "3.5.2"
  },
  "widgets": {
   "state": {},
   "version": "2.0.10"
  }
 },
 "nbformat": 4,
 "nbformat_minor": 0
}